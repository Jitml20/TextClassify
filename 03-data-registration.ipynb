{
 "cells": [
  {
   "cell_type": "markdown",
   "metadata": {},
   "source": [
    "In this notebook, we register the previously prepared dataset within an Azure ML Worspace, so that we can use it for remote training on Azure ML Compute.\n",
    "\n",
    "Before registering the data, we need to make it available in a shared location. For that, we upload it  to an Azure Blob Storage using the azure-storage-blob package.\n",
    "\n",
    "For learning more about registering datasets within Azure ML, please see [here]( https://docs.microsoft.com/en-us/azure/machine-learning/how-to-create-register-datasets)."
   ]
  },
  {
   "cell_type": "code",
   "execution_count": 1,
   "metadata": {
    "scrolled": false
   },
   "outputs": [
    {
     "name": "stdout",
     "output_type": "stream",
     "text": [
      "Requirement already satisfied: azure-storage-blob in /anaconda/envs/azureml_py36/lib/python3.6/site-packages (2.1.0)\n",
      "Requirement already satisfied: azure-storage-common~=2.1 in /anaconda/envs/azureml_py36/lib/python3.6/site-packages (from azure-storage-blob) (2.1.0)\n",
      "Requirement already satisfied: azure-common>=1.1.5 in /anaconda/envs/azureml_py36/lib/python3.6/site-packages (from azure-storage-blob) (1.1.24)\n",
      "Requirement already satisfied: python-dateutil in /anaconda/envs/azureml_py36/lib/python3.6/site-packages (from azure-storage-common~=2.1->azure-storage-blob) (2.8.0)\n",
      "Requirement already satisfied: requests in /anaconda/envs/azureml_py36/lib/python3.6/site-packages (from azure-storage-common~=2.1->azure-storage-blob) (2.22.0)\n",
      "Requirement already satisfied: cryptography in /anaconda/envs/azureml_py36/lib/python3.6/site-packages (from azure-storage-common~=2.1->azure-storage-blob) (2.7)\n",
      "Requirement already satisfied: six>=1.5 in /anaconda/envs/azureml_py36/lib/python3.6/site-packages (from python-dateutil->azure-storage-common~=2.1->azure-storage-blob) (1.13.0)\n",
      "Requirement already satisfied: certifi>=2017.4.17 in /anaconda/envs/azureml_py36/lib/python3.6/site-packages (from requests->azure-storage-common~=2.1->azure-storage-blob) (2019.11.28)\n",
      "Requirement already satisfied: urllib3!=1.25.0,!=1.25.1,<1.26,>=1.21.1 in /anaconda/envs/azureml_py36/lib/python3.6/site-packages (from requests->azure-storage-common~=2.1->azure-storage-blob) (1.24.2)\n",
      "Requirement already satisfied: chardet<3.1.0,>=3.0.2 in /anaconda/envs/azureml_py36/lib/python3.6/site-packages (from requests->azure-storage-common~=2.1->azure-storage-blob) (3.0.4)\n",
      "Requirement already satisfied: idna<2.9,>=2.5 in /anaconda/envs/azureml_py36/lib/python3.6/site-packages (from requests->azure-storage-common~=2.1->azure-storage-blob) (2.8)\n",
      "Requirement already satisfied: asn1crypto>=0.21.0 in /anaconda/envs/azureml_py36/lib/python3.6/site-packages (from cryptography->azure-storage-common~=2.1->azure-storage-blob) (1.0.1)\n",
      "Requirement already satisfied: cffi!=1.11.3,>=1.8 in /anaconda/envs/azureml_py36/lib/python3.6/site-packages (from cryptography->azure-storage-common~=2.1->azure-storage-blob) (1.12.3)\n",
      "Requirement already satisfied: pycparser in /anaconda/envs/azureml_py36/lib/python3.6/site-packages (from cffi!=1.11.3,>=1.8->cryptography->azure-storage-common~=2.1->azure-storage-blob) (2.19)\n"
     ]
    }
   ],
   "source": [
    "!pip install azure-storage-blob"
   ]
  },
  {
   "cell_type": "markdown",
   "metadata": {},
   "source": [
    "Here we upload our dataset from a local folder to the default Azure Blob Storage associated with our Azure ML Workspace. For more details, please see [here]( https://docs.microsoft.com/en-us/azure/storage/blobs/storage-quickstart-blobs-python).\n",
    "\n",
    "You need to replace the values for *account_name*, *account_key*, and *container_name* with the values for your own corresponding resources.\n",
    "\n",
    "You can find those values by logging into your [Azure ML studio environment](https://ml.azure.com) and then click on *Datastores* on the left menu. You will find your Storage Account Name and Blob Container Name there. To get the corresponding Storage Account Key, you need to access your Azure ML Worspace through the [Azure Portal](https://ms.portal.azure.com), click on the Storage Account associated to your workspace, and then click on *Access keys* on the left menu. You can use either *key1* or *key2*."
   ]
  },
  {
   "cell_type": "code",
   "execution_count": 2,
   "metadata": {
    "scrolled": true
   },
   "outputs": [
    {
     "data": {
      "text/plain": [
       "<azure.storage.blob.models.ResourceProperties at 0x7f0120c3a6a0>"
      ]
     },
     "execution_count": 2,
     "metadata": {},
     "output_type": "execute_result"
    }
   ],
   "source": [
    "from azure.storage.blob import BlockBlobService\n",
    "\n",
    "account_name = '<your azure storage account name>'\n",
    "account_key = '<your azure storage account access key>'\n",
    "\n",
    "block_blob_service = BlockBlobService(account_name=account_name, account_key=account_key)\n",
    "\n",
    "container_name = '<your azure blob storage container name>'\n",
    "blob_name = 'data/complaints_dataset/consumer_complaint_data_sample_prepared.csv'\n",
    "file_path = './data/consumer_complaint_data_sample_prepared.csv'\n",
    "\n",
    "block_blob_service.create_blob_from_path(container_name=container_name, blob_name=blob_name, file_path=file_path)"
   ]
  },
  {
   "cell_type": "markdown",
   "metadata": {},
   "source": [
    "To be able to register the dataset within Azure ML, we first need to get a reference to the [workspace]( https://docs.microsoft.com/en-us/azure/machine-learning/concept-workspace) we are registering it to.\n",
    "\n",
    "We use the [Azure ML SDK]( https://docs.microsoft.com/en-us/python/api/overview/azureml-sdk/?view=azure-ml-py) for that. If you don’t have it installed into your development environment, please follow the instructions [here]( https://docs.microsoft.com/en-us/azure/machine-learning/how-to-configure-environment#local). If you want to run the code on a managed VM instance, which already has the SDK, please see [here]( https://docs.microsoft.com/en-us/azure/machine-learning/tutorial-1st-experiment-sdk-setup).\n",
    "\n",
    "You need to replace the values for *subscription_id*, *resource_group*, and *workspace_name* with the values for your own corresponding resources."
   ]
  },
  {
   "cell_type": "code",
   "execution_count": 3,
   "metadata": {},
   "outputs": [],
   "source": [
    "from azureml.core.authentication import InteractiveLoginAuthentication\n",
    "from azureml.core import Workspace\n",
    "\n",
    "interactive_auth = InteractiveLoginAuthentication()\n",
    "\n",
    "subscription_id = '<your azure subscription id>'\n",
    "resource_group = '<your azure ml workspace resource group>'\n",
    "workspace_name = '<your azure ml workspace name>'\n",
    "\n",
    "workspace = Workspace(subscription_id=subscription_id, resource_group=resource_group, workspace_name=workspace_name,\n",
    "                      auth=interactive_auth)"
   ]
  },
  {
   "cell_type": "markdown",
   "metadata": {},
   "source": [
    "Finally, we register our dataset as a [Dataset]( https://docs.microsoft.com/en-us/python/api/azureml-core/azureml.core.dataset.dataset?view=azure-ml-py) object within our Azure ML Workspace.\n",
    "\n",
    "Notice that we need to have our Azure Storage Account already registered as a [Datastore]( https://docs.microsoft.com/en-us/python/api/azureml-core/azureml.core.datastore.datastore?view=azure-ml-py). The default Azure Storage Account associated woth our Azure ML Workspace is already refistered as a Datastore by default. Then, we only need to specify its name, which is * workspaceblobstore*."
   ]
  },
  {
   "cell_type": "code",
   "execution_count": 4,
   "metadata": {},
   "outputs": [],
   "source": [
    "from azureml.core import Datastore, Dataset\n",
    "\n",
    "datastore = Datastore.get(workspace, 'workspaceblobstore')\n",
    "\n",
    "datastore_path = [(datastore, 'data/complaints_dataset/consumer_complaint_data_sample_prepared.csv')]\n",
    "dataset = Dataset.File.from_files(path=datastore_path)\n",
    "\n",
    "dataset_name = 'Consumer Complaints Dataset'\n",
    "dataset_description = 'Consumer Complaint Database. Source: https://catalog.data.gov/dataset/consumer-complaint-database'\n",
    "dataset = dataset.register(workspace=workspace, name=dataset_name, description=dataset_description)"
   ]
  }
 ],
 "metadata": {
  "kernelspec": {
   "display_name": "Python 3.6 - AzureML",
   "language": "python",
   "name": "python3-azureml"
  },
  "language_info": {
   "codemirror_mode": {
    "name": "ipython",
    "version": 3
   },
   "file_extension": ".py",
   "mimetype": "text/x-python",
   "name": "python",
   "nbconvert_exporter": "python",
   "pygments_lexer": "ipython3",
   "version": "3.6.9"
  }
 },
 "nbformat": 4,
 "nbformat_minor": 2
}
