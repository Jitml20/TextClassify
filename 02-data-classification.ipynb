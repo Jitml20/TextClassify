{
 "cells": [
  {
   "cell_type": "markdown",
   "metadata": {},
   "source": [
    "In this notebook, we show step-by-step how to perform text classification by fine-tuning a BERT-based model.\n",
    "\n",
    "Here we install the [transformers]( https://github.com/huggingface/transformers) package, from [Hugging Face]( https://huggingface.co/).\n",
    "We use one of its pre-trained BERT models, more specifically a compact model that is trained through model distillation. We will use the package to:\n",
    "- Tokenize the text according to the BERT model specification, using its [DistilBertTokenizer]( https://huggingface.co/transformers/model_doc/distilbert.html) class\n",
    "- Instantiate a pre-trained BERT model, modified for the text classification task, using its [DistilBertForSequenceClassification](https://huggingface.co/transformers/model_doc/distilbert.html) class, that we will then fine-tuning for our specific dataset.\n",
    "\n",
    "For a comprehensive tutorial about using this package to fine-tune BERT for text classification, please see [here]( https://mccormickml.com/2019/07/22/BERT-fine-tuning/).\n",
    "\n",
    "Please notice that this notebook was create in a hosted Jupyter environment on Azure ML. This environment already has all other packages we need here such as NumPy, Pandas, Scikit-Learn, and PyTorch. For details about this hosted environment, please see [here]( https://docs.microsoft.com/en-us/azure/machine-learning/tutorial-1st-experiment-sdk-setup)."
   ]
  },
  {
   "cell_type": "code",
   "execution_count": 1,
   "metadata": {
    "scrolled": true
   },
   "outputs": [
    {
     "name": "stdout",
     "output_type": "stream",
     "text": [
      "Requirement already satisfied: transformers in /anaconda/envs/azureml_py36/lib/python3.6/site-packages (2.3.0)\n",
      "Requirement already satisfied: tqdm in /anaconda/envs/azureml_py36/lib/python3.6/site-packages (from transformers) (4.40.2)\n",
      "Requirement already satisfied: sacremoses in /anaconda/envs/azureml_py36/lib/python3.6/site-packages (from transformers) (0.0.38)\n",
      "Requirement already satisfied: regex!=2019.12.17 in /anaconda/envs/azureml_py36/lib/python3.6/site-packages (from transformers) (2020.1.8)\n",
      "Requirement already satisfied: numpy in /anaconda/envs/azureml_py36/lib/python3.6/site-packages (from transformers) (1.16.2)\n",
      "Requirement already satisfied: boto3 in /anaconda/envs/azureml_py36/lib/python3.6/site-packages (from transformers) (1.10.48)\n",
      "Requirement already satisfied: sentencepiece in /anaconda/envs/azureml_py36/lib/python3.6/site-packages (from transformers) (0.1.85)\n",
      "Requirement already satisfied: requests in /anaconda/envs/azureml_py36/lib/python3.6/site-packages (from transformers) (2.22.0)\n",
      "Requirement already satisfied: click in /anaconda/envs/azureml_py36/lib/python3.6/site-packages (from sacremoses->transformers) (7.0)\n",
      "Requirement already satisfied: joblib in /anaconda/envs/azureml_py36/lib/python3.6/site-packages (from sacremoses->transformers) (0.14.1)\n",
      "Requirement already satisfied: six in /anaconda/envs/azureml_py36/lib/python3.6/site-packages (from sacremoses->transformers) (1.13.0)\n",
      "Requirement already satisfied: botocore<1.14.0,>=1.13.48 in /anaconda/envs/azureml_py36/lib/python3.6/site-packages (from boto3->transformers) (1.13.48)\n",
      "Requirement already satisfied: jmespath<1.0.0,>=0.7.1 in /anaconda/envs/azureml_py36/lib/python3.6/site-packages (from boto3->transformers) (0.9.4)\n",
      "Requirement already satisfied: s3transfer<0.3.0,>=0.2.0 in /anaconda/envs/azureml_py36/lib/python3.6/site-packages (from boto3->transformers) (0.2.1)\n",
      "Requirement already satisfied: idna<2.9,>=2.5 in /anaconda/envs/azureml_py36/lib/python3.6/site-packages (from requests->transformers) (2.8)\n",
      "Requirement already satisfied: certifi>=2017.4.17 in /anaconda/envs/azureml_py36/lib/python3.6/site-packages (from requests->transformers) (2019.11.28)\n",
      "Requirement already satisfied: urllib3!=1.25.0,!=1.25.1,<1.26,>=1.21.1 in /anaconda/envs/azureml_py36/lib/python3.6/site-packages (from requests->transformers) (1.24.2)\n",
      "Requirement already satisfied: chardet<3.1.0,>=3.0.2 in /anaconda/envs/azureml_py36/lib/python3.6/site-packages (from requests->transformers) (3.0.4)\n",
      "Requirement already satisfied: python-dateutil<3.0.0,>=2.1; python_version >= \"2.7\" in /anaconda/envs/azureml_py36/lib/python3.6/site-packages (from botocore<1.14.0,>=1.13.48->boto3->transformers) (2.8.0)\n",
      "Requirement already satisfied: docutils<0.16,>=0.10 in /anaconda/envs/azureml_py36/lib/python3.6/site-packages (from botocore<1.14.0,>=1.13.48->boto3->transformers) (0.15.2)\n"
     ]
    }
   ],
   "source": [
    "!pip install transformers"
   ]
  },
  {
   "cell_type": "markdown",
   "metadata": {},
   "source": [
    "We then load and inspect the dataset we had previously prepared. In order to train faster, we use the sampled version, which contains 10% of the original prepared dataset."
   ]
  },
  {
   "cell_type": "code",
   "execution_count": 2,
   "metadata": {},
   "outputs": [],
   "source": [
    "import pandas as pd\n",
    "\n",
    "df = pd.read_csv('./data/consumer_complaint_data_sample_prepared.csv')"
   ]
  },
  {
   "cell_type": "code",
   "execution_count": 3,
   "metadata": {},
   "outputs": [
    {
     "data": {
      "text/plain": [
       "(47193, 3)"
      ]
     },
     "execution_count": 3,
     "metadata": {},
     "output_type": "execute_result"
    }
   ],
   "source": [
    "df.shape"
   ]
  },
  {
   "cell_type": "code",
   "execution_count": 4,
   "metadata": {},
   "outputs": [
    {
     "data": {
      "text/html": [
       "<div>\n",
       "<style scoped>\n",
       "    .dataframe tbody tr th:only-of-type {\n",
       "        vertical-align: middle;\n",
       "    }\n",
       "\n",
       "    .dataframe tbody tr th {\n",
       "        vertical-align: top;\n",
       "    }\n",
       "\n",
       "    .dataframe thead th {\n",
       "        text-align: right;\n",
       "    }\n",
       "</style>\n",
       "<table border=\"1\" class=\"dataframe\">\n",
       "  <thead>\n",
       "    <tr style=\"text-align: right;\">\n",
       "      <th></th>\n",
       "      <th>Product</th>\n",
       "      <th>Complaint</th>\n",
       "      <th>Product_Label</th>\n",
       "    </tr>\n",
       "  </thead>\n",
       "  <tbody>\n",
       "    <tr>\n",
       "      <th>0</th>\n",
       "      <td>Mortgage</td>\n",
       "      <td>after falling behind on my mortgage due to cos...</td>\n",
       "      <td>5</td>\n",
       "    </tr>\n",
       "    <tr>\n",
       "      <th>1</th>\n",
       "      <td>Credit Reporting</td>\n",
       "      <td>in 2016 my husband and i had a family circumst...</td>\n",
       "      <td>2</td>\n",
       "    </tr>\n",
       "    <tr>\n",
       "      <th>2</th>\n",
       "      <td>Loans</td>\n",
       "      <td>i purchased the from in washington in the sale...</td>\n",
       "      <td>4</td>\n",
       "    </tr>\n",
       "    <tr>\n",
       "      <th>3</th>\n",
       "      <td>Credit Reporting</td>\n",
       "      <td>public records suppressed from reporting as pu...</td>\n",
       "      <td>2</td>\n",
       "    </tr>\n",
       "    <tr>\n",
       "      <th>4</th>\n",
       "      <td>Debt Collection</td>\n",
       "      <td>i received a phone call on my work phone on at...</td>\n",
       "      <td>3</td>\n",
       "    </tr>\n",
       "    <tr>\n",
       "      <th>5</th>\n",
       "      <td>Credit Reporting</td>\n",
       "      <td>i have been applying for work for 30 days i ha...</td>\n",
       "      <td>2</td>\n",
       "    </tr>\n",
       "    <tr>\n",
       "      <th>6</th>\n",
       "      <td>Credit Reporting</td>\n",
       "      <td>contacted equifax and on 2017 regarding an col...</td>\n",
       "      <td>2</td>\n",
       "    </tr>\n",
       "    <tr>\n",
       "      <th>7</th>\n",
       "      <td>Card Services</td>\n",
       "      <td>the credit card company for home depot citi re...</td>\n",
       "      <td>1</td>\n",
       "    </tr>\n",
       "    <tr>\n",
       "      <th>8</th>\n",
       "      <td>Debt Collection</td>\n",
       "      <td>this company which i hold no contract with nor...</td>\n",
       "      <td>3</td>\n",
       "    </tr>\n",
       "    <tr>\n",
       "      <th>9</th>\n",
       "      <td>Card Services</td>\n",
       "      <td>as of i had a credit card balance of 810 00 i ...</td>\n",
       "      <td>1</td>\n",
       "    </tr>\n",
       "  </tbody>\n",
       "</table>\n",
       "</div>"
      ],
      "text/plain": [
       "            Product                                          Complaint  \\\n",
       "0          Mortgage  after falling behind on my mortgage due to cos...   \n",
       "1  Credit Reporting  in 2016 my husband and i had a family circumst...   \n",
       "2             Loans  i purchased the from in washington in the sale...   \n",
       "3  Credit Reporting  public records suppressed from reporting as pu...   \n",
       "4   Debt Collection  i received a phone call on my work phone on at...   \n",
       "5  Credit Reporting  i have been applying for work for 30 days i ha...   \n",
       "6  Credit Reporting  contacted equifax and on 2017 regarding an col...   \n",
       "7     Card Services  the credit card company for home depot citi re...   \n",
       "8   Debt Collection  this company which i hold no contract with nor...   \n",
       "9     Card Services  as of i had a credit card balance of 810 00 i ...   \n",
       "\n",
       "   Product_Label  \n",
       "0              5  \n",
       "1              2  \n",
       "2              4  \n",
       "3              2  \n",
       "4              3  \n",
       "5              2  \n",
       "6              2  \n",
       "7              1  \n",
       "8              3  \n",
       "9              1  "
      ]
     },
     "execution_count": 4,
     "metadata": {},
     "output_type": "execute_result"
    }
   ],
   "source": [
    "df.head(10)"
   ]
  },
  {
   "cell_type": "code",
   "execution_count": 5,
   "metadata": {
    "scrolled": true
   },
   "outputs": [
    {
     "data": {
      "text/html": [
       "<div>\n",
       "<style scoped>\n",
       "    .dataframe tbody tr th:only-of-type {\n",
       "        vertical-align: middle;\n",
       "    }\n",
       "\n",
       "    .dataframe tbody tr th {\n",
       "        vertical-align: top;\n",
       "    }\n",
       "\n",
       "    .dataframe thead th {\n",
       "        text-align: right;\n",
       "    }\n",
       "</style>\n",
       "<table border=\"1\" class=\"dataframe\">\n",
       "  <thead>\n",
       "    <tr style=\"text-align: right;\">\n",
       "      <th></th>\n",
       "      <th>Product</th>\n",
       "    </tr>\n",
       "  </thead>\n",
       "  <tbody>\n",
       "    <tr>\n",
       "      <th>Credit Reporting</th>\n",
       "      <td>16755</td>\n",
       "    </tr>\n",
       "    <tr>\n",
       "      <th>Debt Collection</th>\n",
       "      <td>10388</td>\n",
       "    </tr>\n",
       "    <tr>\n",
       "      <th>Mortgage</th>\n",
       "      <td>5961</td>\n",
       "    </tr>\n",
       "    <tr>\n",
       "      <th>Loans</th>\n",
       "      <td>4980</td>\n",
       "    </tr>\n",
       "    <tr>\n",
       "      <th>Card Services</th>\n",
       "      <td>4930</td>\n",
       "    </tr>\n",
       "    <tr>\n",
       "      <th>Banking Services</th>\n",
       "      <td>4179</td>\n",
       "    </tr>\n",
       "  </tbody>\n",
       "</table>\n",
       "</div>"
      ],
      "text/plain": [
       "                  Product\n",
       "Credit Reporting    16755\n",
       "Debt Collection     10388\n",
       "Mortgage             5961\n",
       "Loans                4980\n",
       "Card Services        4930\n",
       "Banking Services     4179"
      ]
     },
     "execution_count": 5,
     "metadata": {},
     "output_type": "execute_result"
    }
   ],
   "source": [
    "label_counts = pd.DataFrame(df['Product'].value_counts())\n",
    "label_counts"
   ]
  },
  {
   "cell_type": "markdown",
   "metadata": {},
   "source": [
    "Here we create an array with the label names in the order they were numerically encoded. We use them later when plotting model performance data."
   ]
  },
  {
   "cell_type": "code",
   "execution_count": 6,
   "metadata": {
    "scrolled": true
   },
   "outputs": [
    {
     "data": {
      "text/plain": [
       "['Banking Services',\n",
       " 'Card Services',\n",
       " 'Credit Reporting',\n",
       " 'Debt Collection',\n",
       " 'Loans',\n",
       " 'Mortgage']"
      ]
     },
     "execution_count": 6,
     "metadata": {},
     "output_type": "execute_result"
    }
   ],
   "source": [
    "label_values = list(label_counts.index)\n",
    "order = list(pd.DataFrame(df['Product_Label'].value_counts()).index)\n",
    "label_values = [l for _,l in sorted(zip(order, label_values))]\n",
    "\n",
    "label_values"
   ]
  },
  {
   "cell_type": "markdown",
   "metadata": {},
   "source": [
    "We need to create 2 arrays: one with the textual data, which is our feature data, and one with the numerically encoded labels, representing our target data."
   ]
  },
  {
   "cell_type": "code",
   "execution_count": 7,
   "metadata": {},
   "outputs": [],
   "source": [
    "texts = df['Complaint'].values\n",
    "labels = df['Product_Label'].values"
   ]
  },
  {
   "cell_type": "markdown",
   "metadata": {},
   "source": [
    "BERT is a ‘heavy-weight’´model. This makes the training a very resource-intensive process, specially when we are fine-tuning for all model layers. To mitigate this, we can control the sequence length of our input text, which is given by the number of tokens in our input text, plus 2 special tokens to mark the beginning and ending of a text sequence.\n",
    "\n",
    "From a total of about 47K sentences, we notice that we have about 7.8K sentences with sequence length equals or greater than 300."
   ]
  },
  {
   "cell_type": "code",
   "execution_count": 8,
   "metadata": {},
   "outputs": [
    {
     "name": "stdout",
     "output_type": "stream",
     "text": [
      "5\n",
      "5485\n"
     ]
    }
   ],
   "source": [
    "text_lengths = [len(texts[i].split()) for i in range(len(texts))]\n",
    "print(min(text_lengths))\n",
    "print(max(text_lengths))"
   ]
  },
  {
   "cell_type": "code",
   "execution_count": 9,
   "metadata": {},
   "outputs": [
    {
     "data": {
      "text/plain": [
       "7849"
      ]
     },
     "execution_count": 9,
     "metadata": {},
     "output_type": "execute_result"
    }
   ],
   "source": [
    "sum([1 for i in range(len(text_lengths)) if text_lengths[i] >= 300])"
   ]
  },
  {
   "cell_type": "markdown",
   "metadata": {},
   "source": [
    "Here we instantiate a BERT tokenizer and show an example of a tokenized text. "
   ]
  },
  {
   "cell_type": "code",
   "execution_count": 10,
   "metadata": {
    "scrolled": false
   },
   "outputs": [
    {
     "name": "stdout",
     "output_type": "stream",
     "text": [
      "Original Text:  after falling behind on my mortgage due to costs from a federally declared disaster affecting my home and divorce i have been working with my loan servicer wells fargo to try an obtain an affordable loan modification and avoid foreclosure wells fargo has not been easy to work with has not followed guidelines set by in processing the modification request and has not tried in good faith to work with me specifically 1 after tremendous amounts of follow up and documentation being submitted wells fargo finally replied with a loan modification offer on however the payment amount was over 440 00 higher than my current loan payments and used a valuation of which is much higher than the property is worth \n",
      "2 i appealed their decision on on the basis that my p i payment was higher than prior and the higher valuation used i also submitted my valuation of with supporting documentation recent appraisal as well as a appraisal in line with the valuation \n",
      "3 on we had a nj state foreclosure mediation session as part of the ongoing foreclosure initiated by wells fargo wells fargo s single point of contact was supposed to be available by phone but did not attend and was not reachable by wells fargo s attorney the attorney was able to get someone from the loan servicing department on the phone who stated the appeal was with the investor and we should hear back within the next few days as such i agreed in mediation to make a trial modification payment by the end of \n",
      "4 on i still had not heard back from wells fargo on the appeal despite guidelines that appeals must be responded to within days as such i needed to make the current modification payment to comply with the mediation agreement i called wells fargo and spoke to single point of contact he was unable or unwilling to give me any information about the appeal but said he would push to get a response on the appeal to me via their lawyers he took my trial payment of 3200 00 by phone \n",
      "5 in a letter dated received wells fargo sent a new trial plan notice this time with an even higher valuation and a payment 260 00 higher than the original trial plan notice indicated no notice of how my prior payment was applied was given \n",
      "6 in a letter dated received wells fargo sent a letter stating the valuation was being reviewed and included an exterior only bpo that came to the valuation the bpo has blatantly false information lists an extra bedroom lists full finished basement despite the basement being unfinished from damage related to disaster values in ground pool at despite it not being functional etc and was derived giving the most weight to more expensive larger comparable sales i have not heard back on this review \n",
      "7 i called wells fargo on and left a message for to discuss but did not receive a call back i called again and pressed to speak to a different team member and was told they would not discuss my account with me \n",
      "8 current trial modification status notes first payment made but does not offer an accounting for how that payment applies \n",
      "\n",
      "in summary wells fargo did not meet the day timeline for replying to an appeal essentially forced me into making a payment prior to resolution of the appeal has not operated in good faith has not provided an accounting of how my payment will be applied towards my trial plan not provided a loan modification offer within guidelines of lower p i payment used blatantly false information in determining valuation is unwilling to communicate further with me leaving me in the dark on how to proceed \n",
      "\n",
      "Tokenized Text:  ['after', 'falling', 'behind', 'on', 'my', 'mortgage', 'due', 'to', 'costs', 'from', 'a', 'federally', 'declared', 'disaster', 'affecting', 'my', 'home', 'and', 'divorce', 'i', 'have', 'been', 'working', 'with', 'my', 'loan', 'service', '##r', 'wells', 'fargo', 'to', 'try', 'an', 'obtain', 'an', 'affordable', 'loan', 'modification', 'and', 'avoid', 'fore', '##cl', '##os', '##ure', 'wells', 'fargo', 'has', 'not', 'been', 'easy', 'to', 'work', 'with', 'has', 'not', 'followed', 'guidelines', 'set', 'by', 'in', 'processing', 'the', 'modification', 'request', 'and', 'has', 'not', 'tried', 'in', 'good', 'faith', 'to', 'work', 'with', 'me', 'specifically', '1', 'after', 'tremendous', 'amounts', 'of', 'follow', 'up', 'and', 'documentation', 'being', 'submitted', 'wells', 'fargo', 'finally', 'replied', 'with', 'a', 'loan', 'modification', 'offer', 'on', 'however', 'the', 'payment', 'amount', 'was', 'over', '440', '00', 'higher', 'than', 'my', 'current', 'loan', 'payments', 'and', 'used', 'a', 'valuation', 'of', 'which', 'is', 'much', 'higher', 'than', 'the', 'property', 'is', 'worth', '2', 'i', 'appealed', 'their', 'decision', 'on', 'on', 'the', 'basis', 'that', 'my', 'p', 'i', 'payment', 'was', 'higher', 'than', 'prior', 'and', 'the', 'higher', 'valuation', 'used', 'i', 'also', 'submitted', 'my', 'valuation', 'of', 'with', 'supporting', 'documentation', 'recent', 'app', '##rai', '##sal', 'as', 'well', 'as', 'a', 'app', '##rai', '##sal', 'in', 'line', 'with', 'the', 'valuation', '3', 'on', 'we', 'had', 'a', 'nj', 'state', 'fore', '##cl', '##os', '##ure', 'mediation', 'session', 'as', 'part', 'of', 'the', 'ongoing', 'fore', '##cl', '##os', '##ure', 'initiated', 'by', 'wells', 'fargo', 'wells', 'fargo', 's', 'single', 'point', 'of', 'contact', 'was', 'supposed', 'to', 'be', 'available', 'by', 'phone', 'but', 'did', 'not', 'attend', 'and', 'was', 'not', 'reach', '##able', 'by', 'wells', 'fargo', 's', 'attorney', 'the', 'attorney', 'was', 'able', 'to', 'get', 'someone', 'from', 'the', 'loan', 'servicing', 'department', 'on', 'the', 'phone', 'who', 'stated', 'the', 'appeal', 'was', 'with', 'the', 'investor', 'and', 'we', 'should', 'hear', 'back', 'within', 'the', 'next', 'few', 'days', 'as', 'such', 'i', 'agreed', 'in', 'mediation', 'to', 'make', 'a', 'trial', 'modification', 'payment', 'by', 'the', 'end', 'of', '4', 'on', 'i', 'still', 'had', 'not', 'heard', 'back', 'from', 'wells', 'fargo', 'on', 'the', 'appeal', 'despite', 'guidelines', 'that', 'appeals', 'must', 'be', 'responded', 'to', 'within', 'days', 'as', 'such', 'i', 'needed', 'to', 'make', 'the', 'current', 'modification', 'payment', 'to', 'comply', 'with', 'the', 'mediation', 'agreement', 'i', 'called', 'wells', 'fargo', 'and', 'spoke', 'to', 'single', 'point', 'of', 'contact', 'he', 'was', 'unable', 'or', 'unwilling', 'to', 'give', 'me', 'any', 'information', 'about', 'the', 'appeal', 'but', 'said', 'he', 'would', 'push', 'to', 'get', 'a', 'response', 'on', 'the', 'appeal', 'to', 'me', 'via', 'their', 'lawyers', 'he', 'took', 'my', 'trial', 'payment', 'of', '320', '##0', '00', 'by', 'phone', '5', 'in', 'a', 'letter', 'dated', 'received', 'wells', 'fargo', 'sent', 'a', 'new', 'trial', 'plan', 'notice', 'this', 'time', 'with', 'an', 'even', 'higher', 'valuation', 'and', 'a', 'payment', '260', '00', 'higher', 'than', 'the', 'original', 'trial', 'plan', 'notice', 'indicated', 'no', 'notice', 'of', 'how', 'my', 'prior', 'payment', 'was', 'applied', 'was', 'given', '6', 'in', 'a', 'letter', 'dated', 'received', 'wells', 'fargo', 'sent', 'a', 'letter', 'stating', 'the', 'valuation', 'was', 'being', 'reviewed', 'and', 'included', 'an', 'exterior', 'only', 'bp', '##o', 'that', 'came', 'to', 'the', 'valuation', 'the', 'bp', '##o', 'has', 'b', '##lat', '##antly', 'false', 'information', 'lists', 'an', 'extra', 'bedroom', 'lists', 'full', 'finished', 'basement', 'despite', 'the', 'basement', 'being', 'unfinished', 'from', 'damage', 'related', 'to', 'disaster', 'values', 'in', 'ground', 'pool', 'at', 'despite', 'it', 'not', 'being', 'functional', 'etc', 'and', 'was', 'derived', 'giving', 'the', 'most', 'weight', 'to', 'more', 'expensive', 'larger', 'comparable', 'sales', 'i', 'have', 'not', 'heard', 'back', 'on', 'this', 'review', '7', 'i', 'called', 'wells', 'fargo', 'on', 'and', 'left', 'a', 'message', 'for', 'to', 'discuss', 'but', 'did', 'not', 'receive', 'a', 'call', 'back', 'i', 'called', 'again', 'and', 'pressed', 'to', 'speak', 'to', 'a', 'different', 'team', 'member', 'and', 'was', 'told', 'they', 'would', 'not', 'discuss', 'my', 'account', 'with', 'me', '8', 'current', 'trial', 'modification', 'status', 'notes', 'first', 'payment', 'made', 'but', 'does', 'not', 'offer', 'an', 'accounting', 'for', 'how', 'that', 'payment', 'applies', 'in', 'summary', 'wells', 'fargo', 'did', 'not', 'meet', 'the', 'day', 'timeline', 'for', 'reply', '##ing', 'to', 'an', 'appeal', 'essentially', 'forced', 'me', 'into', 'making', 'a', 'payment', 'prior', 'to', 'resolution', 'of', 'the', 'appeal', 'has', 'not', 'operated', 'in', 'good', 'faith', 'has', 'not', 'provided', 'an', 'accounting', 'of', 'how', 'my', 'payment', 'will', 'be', 'applied', 'towards', 'my', 'trial', 'plan', 'not', 'provided', 'a', 'loan', 'modification', 'offer', 'within', 'guidelines', 'of', 'lower', 'p', 'i', 'payment', 'used', 'b', '##lat', '##antly', 'false', 'information', 'in', 'determining', 'valuation', 'is', 'unwilling', 'to', 'communicate', 'further', 'with', 'me', 'leaving', 'me', 'in', 'the', 'dark', 'on', 'how', 'to', 'proceed'] \n",
      "\n",
      "Token IDs:  [2044, 4634, 2369, 2006, 2026, 14344, 2349, 2000, 5366, 2013, 1037, 20892, 4161, 7071, 12473, 2026, 2188, 1998, 8179, 1045, 2031, 2042, 2551, 2007, 2026, 5414, 2326, 2099, 7051, 23054, 2000, 3046, 2019, 6855, 2019, 15184, 5414, 14080, 1998, 4468, 18921, 20464, 2891, 5397, 7051, 23054, 2038, 2025, 2042, 3733, 2000, 2147, 2007, 2038, 2025, 2628, 11594, 2275, 2011, 1999, 6364, 1996, 14080, 5227, 1998, 2038, 2025, 2699, 1999, 2204, 4752, 2000, 2147, 2007, 2033, 4919, 1015, 2044, 14388, 8310, 1997, 3582, 2039, 1998, 12653, 2108, 7864, 7051, 23054, 2633, 3880, 2007, 1037, 5414, 14080, 3749, 2006, 2174, 1996, 7909, 3815, 2001, 2058, 17422, 4002, 3020, 2084, 2026, 2783, 5414, 10504, 1998, 2109, 1037, 26004, 1997, 2029, 2003, 2172, 3020, 2084, 1996, 3200, 2003, 4276, 1016, 1045, 12068, 2037, 3247, 2006, 2006, 1996, 3978, 2008, 2026, 1052, 1045, 7909, 2001, 3020, 2084, 3188, 1998, 1996, 3020, 26004, 2109, 1045, 2036, 7864, 2026, 26004, 1997, 2007, 4637, 12653, 3522, 10439, 14995, 12002, 2004, 2092, 2004, 1037, 10439, 14995, 12002, 1999, 2240, 2007, 1996, 26004, 1017, 2006, 2057, 2018, 1037, 19193, 2110, 18921, 20464, 2891, 5397, 26435, 5219, 2004, 2112, 1997, 1996, 7552, 18921, 20464, 2891, 5397, 7531, 2011, 7051, 23054, 7051, 23054, 1055, 2309, 2391, 1997, 3967, 2001, 4011, 2000, 2022, 2800, 2011, 3042, 2021, 2106, 2025, 5463, 1998, 2001, 2025, 3362, 3085, 2011, 7051, 23054, 1055, 4905, 1996, 4905, 2001, 2583, 2000, 2131, 2619, 2013, 1996, 5414, 26804, 2533, 2006, 1996, 3042, 2040, 3090, 1996, 5574, 2001, 2007, 1996, 14316, 1998, 2057, 2323, 2963, 2067, 2306, 1996, 2279, 2261, 2420, 2004, 2107, 1045, 3530, 1999, 26435, 2000, 2191, 1037, 3979, 14080, 7909, 2011, 1996, 2203, 1997, 1018, 2006, 1045, 2145, 2018, 2025, 2657, 2067, 2013, 7051, 23054, 2006, 1996, 5574, 2750, 11594, 2008, 9023, 2442, 2022, 5838, 2000, 2306, 2420, 2004, 2107, 1045, 2734, 2000, 2191, 1996, 2783, 14080, 7909, 2000, 14037, 2007, 1996, 26435, 3820, 1045, 2170, 7051, 23054, 1998, 3764, 2000, 2309, 2391, 1997, 3967, 2002, 2001, 4039, 2030, 15175, 2000, 2507, 2033, 2151, 2592, 2055, 1996, 5574, 2021, 2056, 2002, 2052, 5245, 2000, 2131, 1037, 3433, 2006, 1996, 5574, 2000, 2033, 3081, 2037, 9559, 2002, 2165, 2026, 3979, 7909, 1997, 13710, 2692, 4002, 2011, 3042, 1019, 1999, 1037, 3661, 6052, 2363, 7051, 23054, 2741, 1037, 2047, 3979, 2933, 5060, 2023, 2051, 2007, 2019, 2130, 3020, 26004, 1998, 1037, 7909, 13539, 4002, 3020, 2084, 1996, 2434, 3979, 2933, 5060, 5393, 2053, 5060, 1997, 2129, 2026, 3188, 7909, 2001, 4162, 2001, 2445, 1020, 1999, 1037, 3661, 6052, 2363, 7051, 23054, 2741, 1037, 3661, 5517, 1996, 26004, 2001, 2108, 8182, 1998, 2443, 2019, 8829, 2069, 17531, 2080, 2008, 2234, 2000, 1996, 26004, 1996, 17531, 2080, 2038, 1038, 20051, 15706, 6270, 2592, 7201, 2019, 4469, 5010, 7201, 2440, 2736, 8102, 2750, 1996, 8102, 2108, 14342, 2013, 4053, 3141, 2000, 7071, 5300, 1999, 2598, 4770, 2012, 2750, 2009, 2025, 2108, 8360, 4385, 1998, 2001, 5173, 3228, 1996, 2087, 3635, 2000, 2062, 6450, 3469, 12435, 4341, 1045, 2031, 2025, 2657, 2067, 2006, 2023, 3319, 1021, 1045, 2170, 7051, 23054, 2006, 1998, 2187, 1037, 4471, 2005, 2000, 6848, 2021, 2106, 2025, 4374, 1037, 2655, 2067, 1045, 2170, 2153, 1998, 4508, 2000, 3713, 2000, 1037, 2367, 2136, 2266, 1998, 2001, 2409, 2027, 2052, 2025, 6848, 2026, 4070, 2007, 2033, 1022, 2783, 3979, 14080, 3570, 3964, 2034, 7909, 2081, 2021, 2515, 2025, 3749, 2019, 9529, 2005, 2129, 2008, 7909, 12033, 1999, 12654, 7051, 23054, 2106, 2025, 3113, 1996, 2154, 17060, 2005, 7514, 2075, 2000, 2019, 5574, 7687, 3140, 2033, 2046, 2437, 1037, 7909, 3188, 2000, 5813, 1997, 1996, 5574, 2038, 2025, 3498, 1999, 2204, 4752, 2038, 2025, 3024, 2019, 9529, 1997, 2129, 2026, 7909, 2097, 2022, 4162, 2875, 2026, 3979, 2933, 2025, 3024, 1037, 5414, 14080, 3749, 2306, 11594, 1997, 2896, 1052, 1045, 7909, 2109, 1038, 20051, 15706, 6270, 2592, 1999, 12515, 26004, 2003, 15175, 2000, 10639, 2582, 2007, 2033, 2975, 2033, 1999, 1996, 2601, 2006, 2129, 2000, 10838]\n"
     ]
    }
   ],
   "source": [
    "from transformers import DistilBertTokenizer\n",
    "\n",
    "tokenizer = DistilBertTokenizer.from_pretrained('distilbert-base-uncased', do_lower_case=True)\n",
    "\n",
    "print('Original Text: ', texts[0], '\\n')\n",
    "print('Tokenized Text: ', tokenizer.tokenize(texts[0]), '\\n')\n",
    "print('Token IDs: ', tokenizer.convert_tokens_to_ids(tokenizer.tokenize(texts[0])))"
   ]
  },
  {
   "cell_type": "markdown",
   "metadata": {},
   "source": [
    "We then tokenize and encode the entire dataset. In this process, we perform the following:\n",
    "- tokenize the text as shown above\n",
    "- encode it to the corresponding numeric values for each token.\n",
    "- truncate it to the maximum sequence length of 300.\n",
    "- pad the tokens positions greater than 300.\n",
    "- include the special token IDs to mark the beginning and end of each sequence."
   ]
  },
  {
   "cell_type": "code",
   "execution_count": 11,
   "metadata": {},
   "outputs": [
    {
     "data": {
      "text/plain": [
       "[101,\n",
       " 2044,\n",
       " 4634,\n",
       " 2369,\n",
       " 2006,\n",
       " 2026,\n",
       " 14344,\n",
       " 2349,\n",
       " 2000,\n",
       " 5366,\n",
       " 2013,\n",
       " 1037,\n",
       " 20892,\n",
       " 4161,\n",
       " 7071,\n",
       " 12473,\n",
       " 2026,\n",
       " 2188,\n",
       " 1998,\n",
       " 8179,\n",
       " 1045,\n",
       " 2031,\n",
       " 2042,\n",
       " 2551,\n",
       " 2007,\n",
       " 2026,\n",
       " 5414,\n",
       " 2326,\n",
       " 2099,\n",
       " 7051,\n",
       " 23054,\n",
       " 2000,\n",
       " 3046,\n",
       " 2019,\n",
       " 6855,\n",
       " 2019,\n",
       " 15184,\n",
       " 5414,\n",
       " 14080,\n",
       " 1998,\n",
       " 4468,\n",
       " 18921,\n",
       " 20464,\n",
       " 2891,\n",
       " 5397,\n",
       " 7051,\n",
       " 23054,\n",
       " 2038,\n",
       " 2025,\n",
       " 2042,\n",
       " 3733,\n",
       " 2000,\n",
       " 2147,\n",
       " 2007,\n",
       " 2038,\n",
       " 2025,\n",
       " 2628,\n",
       " 11594,\n",
       " 2275,\n",
       " 2011,\n",
       " 1999,\n",
       " 6364,\n",
       " 1996,\n",
       " 14080,\n",
       " 5227,\n",
       " 1998,\n",
       " 2038,\n",
       " 2025,\n",
       " 2699,\n",
       " 1999,\n",
       " 2204,\n",
       " 4752,\n",
       " 2000,\n",
       " 2147,\n",
       " 2007,\n",
       " 2033,\n",
       " 4919,\n",
       " 1015,\n",
       " 2044,\n",
       " 14388,\n",
       " 8310,\n",
       " 1997,\n",
       " 3582,\n",
       " 2039,\n",
       " 1998,\n",
       " 12653,\n",
       " 2108,\n",
       " 7864,\n",
       " 7051,\n",
       " 23054,\n",
       " 2633,\n",
       " 3880,\n",
       " 2007,\n",
       " 1037,\n",
       " 5414,\n",
       " 14080,\n",
       " 3749,\n",
       " 2006,\n",
       " 2174,\n",
       " 1996,\n",
       " 7909,\n",
       " 3815,\n",
       " 2001,\n",
       " 2058,\n",
       " 17422,\n",
       " 4002,\n",
       " 3020,\n",
       " 2084,\n",
       " 2026,\n",
       " 2783,\n",
       " 5414,\n",
       " 10504,\n",
       " 1998,\n",
       " 2109,\n",
       " 1037,\n",
       " 26004,\n",
       " 1997,\n",
       " 2029,\n",
       " 2003,\n",
       " 2172,\n",
       " 3020,\n",
       " 2084,\n",
       " 1996,\n",
       " 3200,\n",
       " 2003,\n",
       " 4276,\n",
       " 1016,\n",
       " 1045,\n",
       " 12068,\n",
       " 2037,\n",
       " 3247,\n",
       " 2006,\n",
       " 2006,\n",
       " 1996,\n",
       " 3978,\n",
       " 2008,\n",
       " 2026,\n",
       " 1052,\n",
       " 1045,\n",
       " 7909,\n",
       " 2001,\n",
       " 3020,\n",
       " 2084,\n",
       " 3188,\n",
       " 1998,\n",
       " 1996,\n",
       " 3020,\n",
       " 26004,\n",
       " 2109,\n",
       " 1045,\n",
       " 2036,\n",
       " 7864,\n",
       " 2026,\n",
       " 26004,\n",
       " 1997,\n",
       " 2007,\n",
       " 4637,\n",
       " 12653,\n",
       " 3522,\n",
       " 10439,\n",
       " 14995,\n",
       " 12002,\n",
       " 2004,\n",
       " 2092,\n",
       " 2004,\n",
       " 1037,\n",
       " 10439,\n",
       " 14995,\n",
       " 12002,\n",
       " 1999,\n",
       " 2240,\n",
       " 2007,\n",
       " 1996,\n",
       " 26004,\n",
       " 1017,\n",
       " 2006,\n",
       " 2057,\n",
       " 2018,\n",
       " 1037,\n",
       " 19193,\n",
       " 2110,\n",
       " 18921,\n",
       " 20464,\n",
       " 2891,\n",
       " 5397,\n",
       " 26435,\n",
       " 5219,\n",
       " 2004,\n",
       " 2112,\n",
       " 1997,\n",
       " 1996,\n",
       " 7552,\n",
       " 18921,\n",
       " 20464,\n",
       " 2891,\n",
       " 5397,\n",
       " 7531,\n",
       " 2011,\n",
       " 7051,\n",
       " 23054,\n",
       " 7051,\n",
       " 23054,\n",
       " 1055,\n",
       " 2309,\n",
       " 2391,\n",
       " 1997,\n",
       " 3967,\n",
       " 2001,\n",
       " 4011,\n",
       " 2000,\n",
       " 2022,\n",
       " 2800,\n",
       " 2011,\n",
       " 3042,\n",
       " 2021,\n",
       " 2106,\n",
       " 2025,\n",
       " 5463,\n",
       " 1998,\n",
       " 2001,\n",
       " 2025,\n",
       " 3362,\n",
       " 3085,\n",
       " 2011,\n",
       " 7051,\n",
       " 23054,\n",
       " 1055,\n",
       " 4905,\n",
       " 1996,\n",
       " 4905,\n",
       " 2001,\n",
       " 2583,\n",
       " 2000,\n",
       " 2131,\n",
       " 2619,\n",
       " 2013,\n",
       " 1996,\n",
       " 5414,\n",
       " 26804,\n",
       " 2533,\n",
       " 2006,\n",
       " 1996,\n",
       " 3042,\n",
       " 2040,\n",
       " 3090,\n",
       " 1996,\n",
       " 5574,\n",
       " 2001,\n",
       " 2007,\n",
       " 1996,\n",
       " 14316,\n",
       " 1998,\n",
       " 2057,\n",
       " 2323,\n",
       " 2963,\n",
       " 2067,\n",
       " 2306,\n",
       " 1996,\n",
       " 2279,\n",
       " 2261,\n",
       " 2420,\n",
       " 2004,\n",
       " 2107,\n",
       " 1045,\n",
       " 3530,\n",
       " 1999,\n",
       " 26435,\n",
       " 2000,\n",
       " 2191,\n",
       " 1037,\n",
       " 3979,\n",
       " 14080,\n",
       " 7909,\n",
       " 2011,\n",
       " 1996,\n",
       " 2203,\n",
       " 1997,\n",
       " 1018,\n",
       " 2006,\n",
       " 1045,\n",
       " 2145,\n",
       " 2018,\n",
       " 2025,\n",
       " 2657,\n",
       " 2067,\n",
       " 2013,\n",
       " 7051,\n",
       " 23054,\n",
       " 2006,\n",
       " 1996,\n",
       " 5574,\n",
       " 2750,\n",
       " 11594,\n",
       " 2008,\n",
       " 9023,\n",
       " 2442,\n",
       " 2022,\n",
       " 5838,\n",
       " 2000,\n",
       " 102]"
      ]
     },
     "execution_count": 11,
     "metadata": {},
     "output_type": "execute_result"
    }
   ],
   "source": [
    "text_ids = [tokenizer.encode(text, max_length=300, pad_to_max_length=True) for text in texts]\n",
    "\n",
    "text_ids[0]"
   ]
  },
  {
   "cell_type": "code",
   "execution_count": 12,
   "metadata": {},
   "outputs": [
    {
     "name": "stdout",
     "output_type": "stream",
     "text": [
      "300\n",
      "300\n"
     ]
    }
   ],
   "source": [
    "text_ids_lengths = [len(text_ids[i]) for i in range(len(text_ids))]\n",
    "print(min(text_ids_lengths))\n",
    "print(max(text_ids_lengths))"
   ]
  },
  {
   "cell_type": "markdown",
   "metadata": {},
   "source": [
    "To fine-tune our model, we need two inputs: one array of token IDs (created above) and one array of a corresponding binary mask, called attention mask in the BERT model specification. Each attention mask has the same length of the corresponding input sequence and has a 0 if the corresponding token is a pad token, or a 1 otherwise. "
   ]
  },
  {
   "cell_type": "code",
   "execution_count": 13,
   "metadata": {
    "scrolled": true
   },
   "outputs": [
    {
     "data": {
      "text/plain": [
       "[1,\n",
       " 1,\n",
       " 1,\n",
       " 1,\n",
       " 1,\n",
       " 1,\n",
       " 1,\n",
       " 1,\n",
       " 1,\n",
       " 1,\n",
       " 1,\n",
       " 1,\n",
       " 1,\n",
       " 1,\n",
       " 1,\n",
       " 1,\n",
       " 1,\n",
       " 1,\n",
       " 1,\n",
       " 1,\n",
       " 1,\n",
       " 1,\n",
       " 1,\n",
       " 1,\n",
       " 1,\n",
       " 1,\n",
       " 1,\n",
       " 1,\n",
       " 1,\n",
       " 1,\n",
       " 1,\n",
       " 1,\n",
       " 1,\n",
       " 1,\n",
       " 1,\n",
       " 1,\n",
       " 1,\n",
       " 1,\n",
       " 1,\n",
       " 1,\n",
       " 1,\n",
       " 1,\n",
       " 1,\n",
       " 1,\n",
       " 1,\n",
       " 1,\n",
       " 1,\n",
       " 1,\n",
       " 1,\n",
       " 1,\n",
       " 1,\n",
       " 1,\n",
       " 1,\n",
       " 1,\n",
       " 1,\n",
       " 1,\n",
       " 1,\n",
       " 1,\n",
       " 1,\n",
       " 1,\n",
       " 1,\n",
       " 1,\n",
       " 1,\n",
       " 1,\n",
       " 1,\n",
       " 1,\n",
       " 1,\n",
       " 1,\n",
       " 1,\n",
       " 1,\n",
       " 1,\n",
       " 1,\n",
       " 1,\n",
       " 1,\n",
       " 1,\n",
       " 1,\n",
       " 1,\n",
       " 1,\n",
       " 1,\n",
       " 1,\n",
       " 1,\n",
       " 1,\n",
       " 1,\n",
       " 1,\n",
       " 1,\n",
       " 1,\n",
       " 1,\n",
       " 1,\n",
       " 1,\n",
       " 1,\n",
       " 1,\n",
       " 1,\n",
       " 1,\n",
       " 1,\n",
       " 1,\n",
       " 1,\n",
       " 1,\n",
       " 1,\n",
       " 1,\n",
       " 1,\n",
       " 1,\n",
       " 1,\n",
       " 1,\n",
       " 1,\n",
       " 1,\n",
       " 1,\n",
       " 1,\n",
       " 1,\n",
       " 1,\n",
       " 1,\n",
       " 1,\n",
       " 1,\n",
       " 1,\n",
       " 1,\n",
       " 1,\n",
       " 1,\n",
       " 1,\n",
       " 1,\n",
       " 1,\n",
       " 1,\n",
       " 1,\n",
       " 1,\n",
       " 1,\n",
       " 1,\n",
       " 1,\n",
       " 1,\n",
       " 1,\n",
       " 1,\n",
       " 1,\n",
       " 1,\n",
       " 1,\n",
       " 1,\n",
       " 1,\n",
       " 1,\n",
       " 1,\n",
       " 1,\n",
       " 1,\n",
       " 1,\n",
       " 1,\n",
       " 1,\n",
       " 1,\n",
       " 1,\n",
       " 1,\n",
       " 1,\n",
       " 1,\n",
       " 1,\n",
       " 1,\n",
       " 1,\n",
       " 1,\n",
       " 1,\n",
       " 1,\n",
       " 1,\n",
       " 1,\n",
       " 1,\n",
       " 1,\n",
       " 1,\n",
       " 1,\n",
       " 1,\n",
       " 1,\n",
       " 1,\n",
       " 1,\n",
       " 1,\n",
       " 1,\n",
       " 1,\n",
       " 1,\n",
       " 1,\n",
       " 1,\n",
       " 1,\n",
       " 1,\n",
       " 1,\n",
       " 1,\n",
       " 1,\n",
       " 1,\n",
       " 1,\n",
       " 1,\n",
       " 1,\n",
       " 1,\n",
       " 1,\n",
       " 1,\n",
       " 1,\n",
       " 1,\n",
       " 1,\n",
       " 1,\n",
       " 1,\n",
       " 1,\n",
       " 1,\n",
       " 1,\n",
       " 1,\n",
       " 1,\n",
       " 1,\n",
       " 1,\n",
       " 1,\n",
       " 1,\n",
       " 1,\n",
       " 1,\n",
       " 1,\n",
       " 1,\n",
       " 1,\n",
       " 1,\n",
       " 1,\n",
       " 1,\n",
       " 1,\n",
       " 1,\n",
       " 1,\n",
       " 1,\n",
       " 1,\n",
       " 1,\n",
       " 1,\n",
       " 1,\n",
       " 1,\n",
       " 1,\n",
       " 1,\n",
       " 1,\n",
       " 1,\n",
       " 1,\n",
       " 1,\n",
       " 1,\n",
       " 1,\n",
       " 1,\n",
       " 1,\n",
       " 1,\n",
       " 1,\n",
       " 1,\n",
       " 1,\n",
       " 1,\n",
       " 1,\n",
       " 1,\n",
       " 1,\n",
       " 1,\n",
       " 1,\n",
       " 1,\n",
       " 1,\n",
       " 1,\n",
       " 1,\n",
       " 1,\n",
       " 1,\n",
       " 1,\n",
       " 1,\n",
       " 1,\n",
       " 1,\n",
       " 1,\n",
       " 1,\n",
       " 1,\n",
       " 1,\n",
       " 1,\n",
       " 1,\n",
       " 1,\n",
       " 1,\n",
       " 1,\n",
       " 1,\n",
       " 1,\n",
       " 1,\n",
       " 1,\n",
       " 1,\n",
       " 1,\n",
       " 1,\n",
       " 1,\n",
       " 1,\n",
       " 1,\n",
       " 1,\n",
       " 1,\n",
       " 1,\n",
       " 1,\n",
       " 1,\n",
       " 1,\n",
       " 1,\n",
       " 1,\n",
       " 1,\n",
       " 1,\n",
       " 1,\n",
       " 1,\n",
       " 1,\n",
       " 1,\n",
       " 1,\n",
       " 1,\n",
       " 1,\n",
       " 1,\n",
       " 1,\n",
       " 1,\n",
       " 1,\n",
       " 1,\n",
       " 1,\n",
       " 1,\n",
       " 1,\n",
       " 1,\n",
       " 1,\n",
       " 1,\n",
       " 1,\n",
       " 1,\n",
       " 1,\n",
       " 1,\n",
       " 1,\n",
       " 1,\n",
       " 1,\n",
       " 1,\n",
       " 1,\n",
       " 1,\n",
       " 1,\n",
       " 1,\n",
       " 1]"
      ]
     },
     "execution_count": 13,
     "metadata": {},
     "output_type": "execute_result"
    }
   ],
   "source": [
    "att_masks = []\n",
    "for ids in text_ids:\n",
    "    masks = [int(id > 0) for id in ids]\n",
    "    att_masks.append(masks)\n",
    "    \n",
    "att_masks[0]"
   ]
  },
  {
   "cell_type": "markdown",
   "metadata": {},
   "source": [
    "Here we split the input and output arrays created before into train, validation, and test sets. We use 80% of the data for training, 10% for training validation, and 10% for final testing."
   ]
  },
  {
   "cell_type": "code",
   "execution_count": 14,
   "metadata": {},
   "outputs": [],
   "source": [
    "from sklearn.model_selection import train_test_split\n",
    "\n",
    "train_x, test_val_x, train_y, test_val_y = train_test_split(text_ids, labels, random_state=111, test_size=0.2)\n",
    "train_m, test_val_m = train_test_split(att_masks, random_state=111, test_size=0.2)\n",
    "\n",
    "test_x, val_x, test_y, val_y = train_test_split(test_val_x, test_val_y, random_state=111, test_size=0.5)\n",
    "test_m, val_m = train_test_split(test_val_m, random_state=111, test_size=0.5)"
   ]
  },
  {
   "cell_type": "markdown",
   "metadata": {},
   "source": [
    "We are working with the PyTorch artifacts in the transformers library, therefore we need our model input and output data as PyTorch tensors."
   ]
  },
  {
   "cell_type": "code",
   "execution_count": 15,
   "metadata": {
    "scrolled": true
   },
   "outputs": [
    {
     "name": "stdout",
     "output_type": "stream",
     "text": [
      "torch.Size([37754, 300])\n",
      "torch.Size([4719, 300])\n",
      "torch.Size([4720, 300])\n",
      "torch.Size([37754])\n",
      "torch.Size([4719])\n",
      "torch.Size([4720])\n",
      "torch.Size([37754, 300])\n",
      "torch.Size([4719, 300])\n",
      "torch.Size([4720, 300])\n"
     ]
    }
   ],
   "source": [
    "import torch\n",
    "\n",
    "train_x = torch.tensor(train_x)\n",
    "test_x = torch.tensor(test_x)\n",
    "val_x = torch.tensor(val_x)\n",
    "train_y = torch.tensor(train_y)\n",
    "test_y = torch.tensor(test_y)\n",
    "val_y = torch.tensor(val_y)\n",
    "train_m = torch.tensor(train_m)\n",
    "test_m = torch.tensor(test_m)\n",
    "val_m = torch.tensor(val_m)\n",
    "\n",
    "print(train_x.shape)\n",
    "print(test_x.shape)\n",
    "print(val_x.shape)\n",
    "print(train_y.shape)\n",
    "print(test_y.shape)\n",
    "print(val_y.shape)\n",
    "print(train_m.shape)\n",
    "print(test_m.shape)\n",
    "print(val_m.shape)"
   ]
  },
  {
   "cell_type": "markdown",
   "metadata": {},
   "source": [
    "To feed data into the model for training, we use Pytorch’s Dataset, DataLoader, and Sampler. For feeding training data, which drives model weights updates, we use the RandomSampler. For feeding the validation data we can use the SequentialSampler."
   ]
  },
  {
   "cell_type": "code",
   "execution_count": 16,
   "metadata": {},
   "outputs": [],
   "source": [
    "from torch.utils.data import TensorDataset, DataLoader, RandomSampler, SequentialSampler\n",
    "\n",
    "batch_size = 32\n",
    "\n",
    "train_data = TensorDataset(train_x, train_m, train_y)\n",
    "train_sampler = RandomSampler(train_data)\n",
    "train_dataloader = DataLoader(train_data, sampler=train_sampler, batch_size=batch_size)\n",
    "\n",
    "val_data = TensorDataset(val_x, val_m, val_y)\n",
    "val_sampler = SequentialSampler(val_data)\n",
    "val_dataloader = DataLoader(val_data, sampler=val_sampler, batch_size=batch_size)"
   ]
  },
  {
   "cell_type": "markdown",
   "metadata": {},
   "source": [
    "Here we instantiate our model class. We use a compact version, that is trained through model distillation from a base BERT model and modified to include a classification layer at the output. This compact version has 6 transformer layers instead of 12 as in the original BERT model. Please see [here]( https://github.com/huggingface/transformers/tree/master/examples/distillation) for more details."
   ]
  },
  {
   "cell_type": "code",
   "execution_count": 17,
   "metadata": {},
   "outputs": [],
   "source": [
    "from transformers import DistilBertForSequenceClassification, AdamW, DistilBertConfig\n",
    "\n",
    "num_labels = len(set(labels))\n",
    "\n",
    "model = DistilBertForSequenceClassification.from_pretrained('distilbert-base-uncased', num_labels=num_labels,\n",
    "                                                            output_attentions=False, output_hidden_states=False)"
   ]
  },
  {
   "cell_type": "markdown",
   "metadata": {},
   "source": [
    "BERT is a very large model. Unless you are freezing model weights in all layers but the classification layer, it is recommended to train it on a GPU."
   ]
  },
  {
   "cell_type": "code",
   "execution_count": 18,
   "metadata": {},
   "outputs": [
    {
     "name": "stdout",
     "output_type": "stream",
     "text": [
      "cuda\n"
     ]
    }
   ],
   "source": [
    "device = torch.device('cuda' if torch.cuda.is_available() else 'cpu')\n",
    "print(device)\n",
    "\n",
    "model = model.to(device)"
   ]
  },
  {
   "cell_type": "markdown",
   "metadata": {},
   "source": [
    "Here we print the model architecture and all model learnable parameters."
   ]
  },
  {
   "cell_type": "code",
   "execution_count": 19,
   "metadata": {},
   "outputs": [
    {
     "name": "stdout",
     "output_type": "stream",
     "text": [
      "Number of trainable parameters: 66958086 \n",
      " DistilBertForSequenceClassification(\n",
      "  (distilbert): DistilBertModel(\n",
      "    (embeddings): Embeddings(\n",
      "      (word_embeddings): Embedding(30522, 768, padding_idx=0)\n",
      "      (position_embeddings): Embedding(512, 768)\n",
      "      (LayerNorm): LayerNorm((768,), eps=1e-12, elementwise_affine=True)\n",
      "      (dropout): Dropout(p=0.1, inplace=False)\n",
      "    )\n",
      "    (transformer): Transformer(\n",
      "      (layer): ModuleList(\n",
      "        (0): TransformerBlock(\n",
      "          (dropout): Dropout(p=0.1, inplace=False)\n",
      "          (attention): MultiHeadSelfAttention(\n",
      "            (dropout): Dropout(p=0.1, inplace=False)\n",
      "            (q_lin): Linear(in_features=768, out_features=768, bias=True)\n",
      "            (k_lin): Linear(in_features=768, out_features=768, bias=True)\n",
      "            (v_lin): Linear(in_features=768, out_features=768, bias=True)\n",
      "            (out_lin): Linear(in_features=768, out_features=768, bias=True)\n",
      "          )\n",
      "          (sa_layer_norm): LayerNorm((768,), eps=1e-12, elementwise_affine=True)\n",
      "          (ffn): FFN(\n",
      "            (dropout): Dropout(p=0.1, inplace=False)\n",
      "            (lin1): Linear(in_features=768, out_features=3072, bias=True)\n",
      "            (lin2): Linear(in_features=3072, out_features=768, bias=True)\n",
      "          )\n",
      "          (output_layer_norm): LayerNorm((768,), eps=1e-12, elementwise_affine=True)\n",
      "        )\n",
      "        (1): TransformerBlock(\n",
      "          (dropout): Dropout(p=0.1, inplace=False)\n",
      "          (attention): MultiHeadSelfAttention(\n",
      "            (dropout): Dropout(p=0.1, inplace=False)\n",
      "            (q_lin): Linear(in_features=768, out_features=768, bias=True)\n",
      "            (k_lin): Linear(in_features=768, out_features=768, bias=True)\n",
      "            (v_lin): Linear(in_features=768, out_features=768, bias=True)\n",
      "            (out_lin): Linear(in_features=768, out_features=768, bias=True)\n",
      "          )\n",
      "          (sa_layer_norm): LayerNorm((768,), eps=1e-12, elementwise_affine=True)\n",
      "          (ffn): FFN(\n",
      "            (dropout): Dropout(p=0.1, inplace=False)\n",
      "            (lin1): Linear(in_features=768, out_features=3072, bias=True)\n",
      "            (lin2): Linear(in_features=3072, out_features=768, bias=True)\n",
      "          )\n",
      "          (output_layer_norm): LayerNorm((768,), eps=1e-12, elementwise_affine=True)\n",
      "        )\n",
      "        (2): TransformerBlock(\n",
      "          (dropout): Dropout(p=0.1, inplace=False)\n",
      "          (attention): MultiHeadSelfAttention(\n",
      "            (dropout): Dropout(p=0.1, inplace=False)\n",
      "            (q_lin): Linear(in_features=768, out_features=768, bias=True)\n",
      "            (k_lin): Linear(in_features=768, out_features=768, bias=True)\n",
      "            (v_lin): Linear(in_features=768, out_features=768, bias=True)\n",
      "            (out_lin): Linear(in_features=768, out_features=768, bias=True)\n",
      "          )\n",
      "          (sa_layer_norm): LayerNorm((768,), eps=1e-12, elementwise_affine=True)\n",
      "          (ffn): FFN(\n",
      "            (dropout): Dropout(p=0.1, inplace=False)\n",
      "            (lin1): Linear(in_features=768, out_features=3072, bias=True)\n",
      "            (lin2): Linear(in_features=3072, out_features=768, bias=True)\n",
      "          )\n",
      "          (output_layer_norm): LayerNorm((768,), eps=1e-12, elementwise_affine=True)\n",
      "        )\n",
      "        (3): TransformerBlock(\n",
      "          (dropout): Dropout(p=0.1, inplace=False)\n",
      "          (attention): MultiHeadSelfAttention(\n",
      "            (dropout): Dropout(p=0.1, inplace=False)\n",
      "            (q_lin): Linear(in_features=768, out_features=768, bias=True)\n",
      "            (k_lin): Linear(in_features=768, out_features=768, bias=True)\n",
      "            (v_lin): Linear(in_features=768, out_features=768, bias=True)\n",
      "            (out_lin): Linear(in_features=768, out_features=768, bias=True)\n",
      "          )\n",
      "          (sa_layer_norm): LayerNorm((768,), eps=1e-12, elementwise_affine=True)\n",
      "          (ffn): FFN(\n",
      "            (dropout): Dropout(p=0.1, inplace=False)\n",
      "            (lin1): Linear(in_features=768, out_features=3072, bias=True)\n",
      "            (lin2): Linear(in_features=3072, out_features=768, bias=True)\n",
      "          )\n",
      "          (output_layer_norm): LayerNorm((768,), eps=1e-12, elementwise_affine=True)\n",
      "        )\n",
      "        (4): TransformerBlock(\n",
      "          (dropout): Dropout(p=0.1, inplace=False)\n",
      "          (attention): MultiHeadSelfAttention(\n",
      "            (dropout): Dropout(p=0.1, inplace=False)\n",
      "            (q_lin): Linear(in_features=768, out_features=768, bias=True)\n",
      "            (k_lin): Linear(in_features=768, out_features=768, bias=True)\n",
      "            (v_lin): Linear(in_features=768, out_features=768, bias=True)\n",
      "            (out_lin): Linear(in_features=768, out_features=768, bias=True)\n",
      "          )\n",
      "          (sa_layer_norm): LayerNorm((768,), eps=1e-12, elementwise_affine=True)\n",
      "          (ffn): FFN(\n",
      "            (dropout): Dropout(p=0.1, inplace=False)\n",
      "            (lin1): Linear(in_features=768, out_features=3072, bias=True)\n",
      "            (lin2): Linear(in_features=3072, out_features=768, bias=True)\n",
      "          )\n",
      "          (output_layer_norm): LayerNorm((768,), eps=1e-12, elementwise_affine=True)\n",
      "        )\n",
      "        (5): TransformerBlock(\n",
      "          (dropout): Dropout(p=0.1, inplace=False)\n",
      "          (attention): MultiHeadSelfAttention(\n",
      "            (dropout): Dropout(p=0.1, inplace=False)\n",
      "            (q_lin): Linear(in_features=768, out_features=768, bias=True)\n",
      "            (k_lin): Linear(in_features=768, out_features=768, bias=True)\n",
      "            (v_lin): Linear(in_features=768, out_features=768, bias=True)\n",
      "            (out_lin): Linear(in_features=768, out_features=768, bias=True)\n",
      "          )\n",
      "          (sa_layer_norm): LayerNorm((768,), eps=1e-12, elementwise_affine=True)\n",
      "          (ffn): FFN(\n",
      "            (dropout): Dropout(p=0.1, inplace=False)\n",
      "            (lin1): Linear(in_features=768, out_features=3072, bias=True)\n",
      "            (lin2): Linear(in_features=3072, out_features=768, bias=True)\n",
      "          )\n",
      "          (output_layer_norm): LayerNorm((768,), eps=1e-12, elementwise_affine=True)\n",
      "        )\n",
      "      )\n",
      "    )\n",
      "  )\n",
      "  (pre_classifier): Linear(in_features=768, out_features=768, bias=True)\n",
      "  (classifier): Linear(in_features=768, out_features=6, bias=True)\n",
      "  (dropout): Dropout(p=0.2, inplace=False)\n",
      ")\n"
     ]
    }
   ],
   "source": [
    "def count_parameters(model):\n",
    "    return sum(p.numel() for p in model.parameters() if p.requires_grad)\n",
    "\n",
    "print('Number of trainable parameters:', count_parameters(model), '\\n', model)"
   ]
  },
  {
   "cell_type": "code",
   "execution_count": 20,
   "metadata": {
    "scrolled": true
   },
   "outputs": [
    {
     "data": {
      "text/plain": [
       "['distilbert.embeddings.word_embeddings.weight',\n",
       " 'distilbert.embeddings.position_embeddings.weight',\n",
       " 'distilbert.embeddings.LayerNorm.weight',\n",
       " 'distilbert.embeddings.LayerNorm.bias',\n",
       " 'distilbert.transformer.layer.0.attention.q_lin.weight',\n",
       " 'distilbert.transformer.layer.0.attention.q_lin.bias',\n",
       " 'distilbert.transformer.layer.0.attention.k_lin.weight',\n",
       " 'distilbert.transformer.layer.0.attention.k_lin.bias',\n",
       " 'distilbert.transformer.layer.0.attention.v_lin.weight',\n",
       " 'distilbert.transformer.layer.0.attention.v_lin.bias',\n",
       " 'distilbert.transformer.layer.0.attention.out_lin.weight',\n",
       " 'distilbert.transformer.layer.0.attention.out_lin.bias',\n",
       " 'distilbert.transformer.layer.0.sa_layer_norm.weight',\n",
       " 'distilbert.transformer.layer.0.sa_layer_norm.bias',\n",
       " 'distilbert.transformer.layer.0.ffn.lin1.weight',\n",
       " 'distilbert.transformer.layer.0.ffn.lin1.bias',\n",
       " 'distilbert.transformer.layer.0.ffn.lin2.weight',\n",
       " 'distilbert.transformer.layer.0.ffn.lin2.bias',\n",
       " 'distilbert.transformer.layer.0.output_layer_norm.weight',\n",
       " 'distilbert.transformer.layer.0.output_layer_norm.bias',\n",
       " 'distilbert.transformer.layer.1.attention.q_lin.weight',\n",
       " 'distilbert.transformer.layer.1.attention.q_lin.bias',\n",
       " 'distilbert.transformer.layer.1.attention.k_lin.weight',\n",
       " 'distilbert.transformer.layer.1.attention.k_lin.bias',\n",
       " 'distilbert.transformer.layer.1.attention.v_lin.weight',\n",
       " 'distilbert.transformer.layer.1.attention.v_lin.bias',\n",
       " 'distilbert.transformer.layer.1.attention.out_lin.weight',\n",
       " 'distilbert.transformer.layer.1.attention.out_lin.bias',\n",
       " 'distilbert.transformer.layer.1.sa_layer_norm.weight',\n",
       " 'distilbert.transformer.layer.1.sa_layer_norm.bias',\n",
       " 'distilbert.transformer.layer.1.ffn.lin1.weight',\n",
       " 'distilbert.transformer.layer.1.ffn.lin1.bias',\n",
       " 'distilbert.transformer.layer.1.ffn.lin2.weight',\n",
       " 'distilbert.transformer.layer.1.ffn.lin2.bias',\n",
       " 'distilbert.transformer.layer.1.output_layer_norm.weight',\n",
       " 'distilbert.transformer.layer.1.output_layer_norm.bias',\n",
       " 'distilbert.transformer.layer.2.attention.q_lin.weight',\n",
       " 'distilbert.transformer.layer.2.attention.q_lin.bias',\n",
       " 'distilbert.transformer.layer.2.attention.k_lin.weight',\n",
       " 'distilbert.transformer.layer.2.attention.k_lin.bias',\n",
       " 'distilbert.transformer.layer.2.attention.v_lin.weight',\n",
       " 'distilbert.transformer.layer.2.attention.v_lin.bias',\n",
       " 'distilbert.transformer.layer.2.attention.out_lin.weight',\n",
       " 'distilbert.transformer.layer.2.attention.out_lin.bias',\n",
       " 'distilbert.transformer.layer.2.sa_layer_norm.weight',\n",
       " 'distilbert.transformer.layer.2.sa_layer_norm.bias',\n",
       " 'distilbert.transformer.layer.2.ffn.lin1.weight',\n",
       " 'distilbert.transformer.layer.2.ffn.lin1.bias',\n",
       " 'distilbert.transformer.layer.2.ffn.lin2.weight',\n",
       " 'distilbert.transformer.layer.2.ffn.lin2.bias',\n",
       " 'distilbert.transformer.layer.2.output_layer_norm.weight',\n",
       " 'distilbert.transformer.layer.2.output_layer_norm.bias',\n",
       " 'distilbert.transformer.layer.3.attention.q_lin.weight',\n",
       " 'distilbert.transformer.layer.3.attention.q_lin.bias',\n",
       " 'distilbert.transformer.layer.3.attention.k_lin.weight',\n",
       " 'distilbert.transformer.layer.3.attention.k_lin.bias',\n",
       " 'distilbert.transformer.layer.3.attention.v_lin.weight',\n",
       " 'distilbert.transformer.layer.3.attention.v_lin.bias',\n",
       " 'distilbert.transformer.layer.3.attention.out_lin.weight',\n",
       " 'distilbert.transformer.layer.3.attention.out_lin.bias',\n",
       " 'distilbert.transformer.layer.3.sa_layer_norm.weight',\n",
       " 'distilbert.transformer.layer.3.sa_layer_norm.bias',\n",
       " 'distilbert.transformer.layer.3.ffn.lin1.weight',\n",
       " 'distilbert.transformer.layer.3.ffn.lin1.bias',\n",
       " 'distilbert.transformer.layer.3.ffn.lin2.weight',\n",
       " 'distilbert.transformer.layer.3.ffn.lin2.bias',\n",
       " 'distilbert.transformer.layer.3.output_layer_norm.weight',\n",
       " 'distilbert.transformer.layer.3.output_layer_norm.bias',\n",
       " 'distilbert.transformer.layer.4.attention.q_lin.weight',\n",
       " 'distilbert.transformer.layer.4.attention.q_lin.bias',\n",
       " 'distilbert.transformer.layer.4.attention.k_lin.weight',\n",
       " 'distilbert.transformer.layer.4.attention.k_lin.bias',\n",
       " 'distilbert.transformer.layer.4.attention.v_lin.weight',\n",
       " 'distilbert.transformer.layer.4.attention.v_lin.bias',\n",
       " 'distilbert.transformer.layer.4.attention.out_lin.weight',\n",
       " 'distilbert.transformer.layer.4.attention.out_lin.bias',\n",
       " 'distilbert.transformer.layer.4.sa_layer_norm.weight',\n",
       " 'distilbert.transformer.layer.4.sa_layer_norm.bias',\n",
       " 'distilbert.transformer.layer.4.ffn.lin1.weight',\n",
       " 'distilbert.transformer.layer.4.ffn.lin1.bias',\n",
       " 'distilbert.transformer.layer.4.ffn.lin2.weight',\n",
       " 'distilbert.transformer.layer.4.ffn.lin2.bias',\n",
       " 'distilbert.transformer.layer.4.output_layer_norm.weight',\n",
       " 'distilbert.transformer.layer.4.output_layer_norm.bias',\n",
       " 'distilbert.transformer.layer.5.attention.q_lin.weight',\n",
       " 'distilbert.transformer.layer.5.attention.q_lin.bias',\n",
       " 'distilbert.transformer.layer.5.attention.k_lin.weight',\n",
       " 'distilbert.transformer.layer.5.attention.k_lin.bias',\n",
       " 'distilbert.transformer.layer.5.attention.v_lin.weight',\n",
       " 'distilbert.transformer.layer.5.attention.v_lin.bias',\n",
       " 'distilbert.transformer.layer.5.attention.out_lin.weight',\n",
       " 'distilbert.transformer.layer.5.attention.out_lin.bias',\n",
       " 'distilbert.transformer.layer.5.sa_layer_norm.weight',\n",
       " 'distilbert.transformer.layer.5.sa_layer_norm.bias',\n",
       " 'distilbert.transformer.layer.5.ffn.lin1.weight',\n",
       " 'distilbert.transformer.layer.5.ffn.lin1.bias',\n",
       " 'distilbert.transformer.layer.5.ffn.lin2.weight',\n",
       " 'distilbert.transformer.layer.5.ffn.lin2.bias',\n",
       " 'distilbert.transformer.layer.5.output_layer_norm.weight',\n",
       " 'distilbert.transformer.layer.5.output_layer_norm.bias',\n",
       " 'pre_classifier.weight',\n",
       " 'pre_classifier.bias',\n",
       " 'classifier.weight',\n",
       " 'classifier.bias']"
      ]
     },
     "execution_count": 20,
     "metadata": {},
     "output_type": "execute_result"
    }
   ],
   "source": [
    "[n for n, p in model.named_parameters()]"
   ]
  },
  {
   "cell_type": "markdown",
   "metadata": {},
   "source": [
    "In the following 5 cells we define our PyTorch optimizer and corresponding parameters, learning rate scheduler, and the training loop for the fine-tuning procedure. We train for 4 epochs."
   ]
  },
  {
   "cell_type": "code",
   "execution_count": 21,
   "metadata": {},
   "outputs": [],
   "source": [
    "learning_rate = 1e-5\n",
    "adam_epsilon = 1e-8\n",
    "\n",
    "no_decay = ['bias', 'LayerNorm.weight']\n",
    "optimizer_grouped_parameters = [\n",
    "    {'params': [p for n, p in model.named_parameters() if not any(nd in n for nd in no_decay)],\n",
    "     'weight_decay_rate': 0.2},\n",
    "    {'params': [p for n, p in model.named_parameters() if any(nd in n for nd in no_decay)],\n",
    "     'weight_decay_rate': 0.0}\n",
    "]\n",
    "\n",
    "optimizer = AdamW(optimizer_grouped_parameters, lr=learning_rate, eps=adam_epsilon)"
   ]
  },
  {
   "cell_type": "code",
   "execution_count": 22,
   "metadata": {},
   "outputs": [],
   "source": [
    "from transformers import get_linear_schedule_with_warmup\n",
    "\n",
    "num_epochs = 4\n",
    "total_steps = len(train_dataloader) * num_epochs\n",
    "\n",
    "scheduler = get_linear_schedule_with_warmup(optimizer, num_warmup_steps=0, num_training_steps=total_steps)"
   ]
  },
  {
   "cell_type": "code",
   "execution_count": 23,
   "metadata": {},
   "outputs": [],
   "source": [
    "import time\n",
    "\n",
    "def epoch_time(start_time, end_time):\n",
    "    elapsed_time = end_time - start_time\n",
    "    elapsed_mins = int(elapsed_time / 60)\n",
    "    elapsed_secs = int(elapsed_time - (elapsed_mins * 60))\n",
    "    return elapsed_mins, elapsed_secs"
   ]
  },
  {
   "cell_type": "code",
   "execution_count": 24,
   "metadata": {},
   "outputs": [],
   "source": [
    "import numpy as np\n",
    "import random\n",
    "\n",
    "seed_val = 111\n",
    "\n",
    "random.seed(seed_val)\n",
    "np.random.seed(seed_val)\n",
    "torch.manual_seed(seed_val)\n",
    "torch.cuda.manual_seed_all(seed_val)"
   ]
  },
  {
   "cell_type": "code",
   "execution_count": 25,
   "metadata": {
    "scrolled": true
   },
   "outputs": [
    {
     "name": "stdout",
     "output_type": "stream",
     "text": [
      "\n",
      "Train loss after itaration 1: 0.710054\n",
      "Validation loss after itaration 1: 0.508176\n",
      "Time: 10m 44s\n",
      "\n",
      "Train loss after itaration 2: 0.449463\n",
      "Validation loss after itaration 2: 0.467151\n",
      "Time: 10m 45s\n",
      "\n",
      "Train loss after itaration 3: 0.389150\n",
      "Validation loss after itaration 3: 0.461241\n",
      "Time: 10m 43s\n",
      "\n",
      "Train loss after itaration 4: 0.351935\n",
      "Validation loss after itaration 4: 0.457820\n",
      "Time: 10m 44s\n"
     ]
    }
   ],
   "source": [
    "train_losses = []\n",
    "val_losses = []\n",
    "num_mb_train = len(train_dataloader)\n",
    "num_mb_val = len(val_dataloader)\n",
    "\n",
    "if num_mb_val == 0:\n",
    "    num_mb_val = 1\n",
    "\n",
    "for n in range(num_epochs):\n",
    "    train_loss = 0\n",
    "    val_loss = 0\n",
    "    start_time = time.time()\n",
    "    \n",
    "    for k, (mb_x, mb_m, mb_y) in enumerate(train_dataloader):\n",
    "        optimizer.zero_grad()\n",
    "        model.train()\n",
    "        \n",
    "        mb_x = mb_x.to(device)\n",
    "        mb_m = mb_m.to(device)\n",
    "        mb_y = mb_y.to(device)\n",
    "        \n",
    "        outputs = model(mb_x, attention_mask=mb_m, labels=mb_y)\n",
    "        \n",
    "        loss = outputs[0]\n",
    "        #loss = model_loss(outputs[1], mb_y)\n",
    "        loss.backward()\n",
    "        torch.nn.utils.clip_grad_norm_(model.parameters(), 1.0)\n",
    "        optimizer.step()\n",
    "        scheduler.step()\n",
    "        \n",
    "        train_loss += loss.data / num_mb_train\n",
    "    \n",
    "    print (\"\\nTrain loss after itaration %i: %f\" % (n+1, train_loss))\n",
    "    train_losses.append(train_loss.cpu())\n",
    "    \n",
    "    with torch.no_grad():\n",
    "        model.eval()\n",
    "        \n",
    "        for k, (mb_x, mb_m, mb_y) in enumerate(val_dataloader):\n",
    "            mb_x = mb_x.to(device)\n",
    "            mb_m = mb_m.to(device)\n",
    "            mb_y = mb_y.to(device)\n",
    "        \n",
    "            outputs = model(mb_x, attention_mask=mb_m, labels=mb_y)\n",
    "            \n",
    "            loss = outputs[0]\n",
    "            #loss = model_loss(outputs[1], mb_y)\n",
    "            \n",
    "            val_loss += loss.data / num_mb_val\n",
    "            \n",
    "        print (\"Validation loss after itaration %i: %f\" % (n+1, val_loss))\n",
    "        val_losses.append(val_loss.cpu())\n",
    "    \n",
    "    end_time = time.time()\n",
    "    epoch_mins, epoch_secs = epoch_time(start_time, end_time)\n",
    "    print(f'Time: {epoch_mins}m {epoch_secs}s')"
   ]
  },
  {
   "cell_type": "markdown",
   "metadata": {},
   "source": [
    "After training, we can save the model and necessary configuration parameters, to recreate it later and use it to score the test data. Here we also save the losses computed from both training and validation data."
   ]
  },
  {
   "cell_type": "code",
   "execution_count": 26,
   "metadata": {},
   "outputs": [],
   "source": [
    "import pickle\n",
    "import os\n",
    "\n",
    "out_dir = './model'\n",
    "\n",
    "if not os.path.exists(out_dir):\n",
    "    os.makedirs(out_dir)\n",
    "    \n",
    "model_to_save = model.module if hasattr(model, 'module') else model\n",
    "model_to_save.save_pretrained(out_dir)\n",
    "tokenizer.save_pretrained(out_dir)\n",
    "\n",
    "with open(out_dir + '/train_losses.pkl', 'wb') as f:\n",
    "    pickle.dump(train_losses, f)\n",
    "    \n",
    "with open(out_dir + '/val_losses.pkl', 'wb') as f:\n",
    "    pickle.dump(val_losses, f)"
   ]
  },
  {
   "cell_type": "code",
   "execution_count": 27,
   "metadata": {},
   "outputs": [],
   "source": [
    "out_dir = './model'\n",
    "\n",
    "model = DistilBertForSequenceClassification.from_pretrained(out_dir)\n",
    "\n",
    "device = torch.device('cuda' if torch.cuda.is_available() else 'cpu')\n",
    "model = model.to(device)\n",
    "\n",
    "with open(out_dir + '/train_losses.pkl', 'rb') as f:\n",
    "    train_losses = pickle.load(f)\n",
    "    \n",
    "with open(out_dir + '/val_losses.pkl', 'rb') as f:\n",
    "    val_losses = pickle.load(f)"
   ]
  },
  {
   "cell_type": "code",
   "execution_count": 28,
   "metadata": {},
   "outputs": [
    {
     "data": {
      "text/plain": [
       "[<matplotlib.lines.Line2D at 0x7f1d1be6fda0>]"
      ]
     },
     "execution_count": 28,
     "metadata": {},
     "output_type": "execute_result"
    },
    {
     "data": {
      "image/png": "[encoded data removed]",
      "text/plain": [
       "<Figure size 432x288 with 1 Axes>"
      ]
     },
     "metadata": {
      "needs_background": "light"
     },
     "output_type": "display_data"
    }
   ],
   "source": [
    "from matplotlib import pyplot as plt\n",
    "%matplotlib inline\n",
    "\n",
    "plt.figure()\n",
    "plt.plot(train_losses)"
   ]
  },
  {
   "cell_type": "code",
   "execution_count": 29,
   "metadata": {
    "scrolled": true
   },
   "outputs": [
    {
     "data": {
      "text/plain": [
       "[<matplotlib.lines.Line2D at 0x7f1d1be1e860>]"
      ]
     },
     "execution_count": 29,
     "metadata": {},
     "output_type": "execute_result"
    },
    {
     "data": {
      "image/png": "[encoded data removed]",
      "text/plain": [
       "<Figure size 432x288 with 1 Axes>"
      ]
     },
     "metadata": {
      "needs_background": "light"
     },
     "output_type": "display_data"
    }
   ],
   "source": [
    "plt.figure()\n",
    "plt.plot(val_losses)"
   ]
  },
  {
   "cell_type": "markdown",
   "metadata": {},
   "source": [
    "After instantiating a trained model, we can then score the test data and compute its accuracy. We then print the classification report and plot a confusion matrix.\n",
    "\n",
    "The trained model gives us good results on the test data, being able to correctly classify 80% or more on each of the 6 distinct categories."
   ]
  },
  {
   "cell_type": "code",
   "execution_count": 30,
   "metadata": {},
   "outputs": [],
   "source": [
    "batch_size = 32\n",
    "\n",
    "test_data = TensorDataset(test_x, test_m)\n",
    "test_sampler = SequentialSampler(test_data)\n",
    "test_dataloader = DataLoader(test_data, sampler=test_sampler, batch_size=batch_size)\n",
    "\n",
    "outputs = []\n",
    "with torch.no_grad():\n",
    "    model.eval()\n",
    "    for k, (mb_x, mb_m) in enumerate(test_dataloader):\n",
    "        mb_x = mb_x.to(device)\n",
    "        mb_m = mb_m.to(device)\n",
    "        output = model(mb_x, attention_mask=mb_m)\n",
    "        outputs.append(output[0].to('cpu'))\n",
    "\n",
    "outputs = torch.cat(outputs)"
   ]
  },
  {
   "cell_type": "code",
   "execution_count": 31,
   "metadata": {},
   "outputs": [],
   "source": [
    "_, predicted_values = torch.max(outputs, 1)\n",
    "predicted_values = predicted_values.numpy()\n",
    "true_values = test_y.numpy()"
   ]
  },
  {
   "cell_type": "code",
   "execution_count": 32,
   "metadata": {},
   "outputs": [
    {
     "name": "stdout",
     "output_type": "stream",
     "text": [
      "Test Accuracy: 0.8497563043017589\n"
     ]
    }
   ],
   "source": [
    "test_accuracy = np.sum(predicted_values == true_values) / len(true_values)\n",
    "print (\"Test Accuracy:\", test_accuracy)"
   ]
  },
  {
   "cell_type": "code",
   "execution_count": 33,
   "metadata": {},
   "outputs": [
    {
     "name": "stdout",
     "output_type": "stream",
     "text": [
      "                  precision    recall  f1-score   support\n",
      "\n",
      "Banking Services       0.88      0.83      0.85       411\n",
      "   Card Services       0.80      0.80      0.80       524\n",
      "Credit Reporting       0.88      0.86      0.87      1665\n",
      " Debt Collection       0.82      0.84      0.83      1045\n",
      "           Loans       0.76      0.81      0.78       486\n",
      "        Mortgage       0.92      0.92      0.92       588\n",
      "\n",
      "       micro avg       0.85      0.85      0.85      4719\n",
      "       macro avg       0.84      0.84      0.84      4719\n",
      "    weighted avg       0.85      0.85      0.85      4719\n",
      "\n"
     ]
    }
   ],
   "source": [
    "from sklearn.metrics import classification_report\n",
    "\n",
    "print(classification_report(true_values, predicted_values, target_names=[str(l) for l in label_values]))"
   ]
  },
  {
   "cell_type": "code",
   "execution_count": 34,
   "metadata": {},
   "outputs": [],
   "source": [
    "import itertools\n",
    "\n",
    "# plot confusion matrix\n",
    "# code borrowed from scikit-learn.org\n",
    "def plot_confusion_matrix(cm, classes,\n",
    "                          normalize=False,\n",
    "                          title='Confusion matrix',\n",
    "                          cmap=plt.cm.Blues):\n",
    "    \"\"\"\n",
    "    This function prints and plots the confusion matrix.\n",
    "    Normalization can be applied by setting `normalize=True`.\n",
    "    \"\"\"\n",
    "    if normalize:\n",
    "        cm = cm.astype('float') / cm.sum(axis=1)[:, np.newaxis]\n",
    "        print(\"Normalized confusion matrix\")\n",
    "    else:\n",
    "        print('Confusion matrix, without normalization')\n",
    "\n",
    "    print(cm)\n",
    "\n",
    "    plt.imshow(cm, interpolation='nearest', cmap=cmap)\n",
    "    plt.title(title)\n",
    "    plt.colorbar()\n",
    "    tick_marks = np.arange(len(classes))\n",
    "    plt.xticks(tick_marks, classes, rotation=45)\n",
    "    plt.yticks(tick_marks, classes)\n",
    "\n",
    "    fmt = '.2f' if normalize else 'd'\n",
    "    thresh = cm.max() / 2.\n",
    "    for i, j in itertools.product(range(cm.shape[0]), range(cm.shape[1])):\n",
    "        plt.text(j, i, format(cm[i, j], fmt),\n",
    "                 horizontalalignment=\"center\",\n",
    "                 color=\"white\" if cm[i, j] > thresh else \"black\")\n",
    "\n",
    "    plt.tight_layout()\n",
    "    plt.ylabel('True label')\n",
    "    plt.xlabel('Predicted label')"
   ]
  },
  {
   "cell_type": "code",
   "execution_count": 35,
   "metadata": {},
   "outputs": [
    {
     "name": "stdout",
     "output_type": "stream",
     "text": [
      "Confusion matrix, without normalization\n",
      "[[ 343   29   12   11   10    6]\n",
      " [  26  420   41   25   11    1]\n",
      " [   7   41 1436  115   48   18]\n",
      " [   8   24   77  880   39   17]\n",
      " [   3   12   45   26  392    8]\n",
      " [   5    1   14   10   19  539]]\n",
      "Normalized confusion matrix\n",
      "[[0.83 0.07 0.03 0.03 0.02 0.01]\n",
      " [0.05 0.8  0.08 0.05 0.02 0.  ]\n",
      " [0.   0.02 0.86 0.07 0.03 0.01]\n",
      " [0.01 0.02 0.07 0.84 0.04 0.02]\n",
      " [0.01 0.02 0.09 0.05 0.81 0.02]\n",
      " [0.01 0.   0.02 0.02 0.03 0.92]]\n"
     ]
    },
    {
     "data": {
      "image/png": "[encoded data removed]",
      "text/plain": [
       "<Figure size 432x432 with 2 Axes>"
      ]
     },
     "metadata": {
      "needs_background": "light"
     },
     "output_type": "display_data"
    },
    {
     "data": {
      "image/png": "[encoded data removed]",
      "text/plain": [
       "<Figure size 432x432 with 2 Axes>"
      ]
     },
     "metadata": {
      "needs_background": "light"
     },
     "output_type": "display_data"
    }
   ],
   "source": [
    "from sklearn.metrics import classification_report, confusion_matrix\n",
    "\n",
    "cm_test = confusion_matrix(true_values, predicted_values)\n",
    "\n",
    "np.set_printoptions(precision=2)\n",
    "\n",
    "plt.figure(figsize=(6,6))\n",
    "plot_confusion_matrix(cm_test, classes=label_values, title='Confusion Matrix - Test Dataset')\n",
    "plt.figure(figsize=(6,6))\n",
    "plot_confusion_matrix(cm_test, classes=label_values, title='Confusion Matrix - Test Dataset', normalize=True)"
   ]
  }
 ],
 "metadata": {
  "kernelspec": {
   "display_name": "Python 3.6 - AzureML",
   "language": "python",
   "name": "python3-azureml"
  },
  "language_info": {
   "codemirror_mode": {
    "name": "ipython",
    "version": 3
   },
   "file_extension": ".py",
   "mimetype": "text/x-python",
   "name": "python",
   "nbconvert_exporter": "python",
   "pygments_lexer": "ipython3",
   "version": "3.6.9"
  }
 },
 "nbformat": 4,
 "nbformat_minor": 2
}
